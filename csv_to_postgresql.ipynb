{
 "cells": [
  {
   "cell_type": "markdown",
   "id": "d41b2c99-8567-4dd8-9603-31a272378496",
   "metadata": {},
   "source": [
    "# ETL Process csv to PostgreSQL"
   ]
  },
  {
   "cell_type": "markdown",
   "id": "22a263f5-64ca-470f-854f-984e90a7b804",
   "metadata": {},
   "source": [
    "# Import pandas for data manipulation"
   ]
  },
  {
   "cell_type": "code",
   "execution_count": 1,
   "id": "0cb20a83-463f-4784-9934-35348df71cf6",
   "metadata": {},
   "outputs": [],
   "source": [
    "import pandas as pd"
   ]
  },
  {
   "cell_type": "markdown",
   "id": "e16c8d4e-aee3-422b-b389-1dee39a4fea1",
   "metadata": {},
   "source": [
    "# File path foe csv file"
   ]
  },
  {
   "cell_type": "code",
   "execution_count": 2,
   "id": "d0713bd1-9ab2-4765-9d9b-dcb789eb6c24",
   "metadata": {},
   "outputs": [],
   "source": [
    "CSV_FILE_PATH = '/home/mulyo/airflow_env/CO2 Emission Country.csv'"
   ]
  },
  {
   "cell_type": "markdown",
   "id": "98450aff-b084-4ee5-8154-9ecfc65db2f1",
   "metadata": {},
   "source": [
    "# Extract csv into pandas data frame"
   ]
  },
  {
   "cell_type": "code",
   "execution_count": 3,
   "id": "c3be1b17-87e6-4094-8ae9-b5ffb473713a",
   "metadata": {},
   "outputs": [],
   "source": [
    "df = pd.read_csv(CSV_FILE_PATH)"
   ]
  },
  {
   "cell_type": "code",
   "execution_count": 4,
   "id": "df06bde7-f6fe-487a-8612-f1232b5487e4",
   "metadata": {},
   "outputs": [
    {
     "data": {
      "text/html": [
       "<div>\n",
       "<style scoped>\n",
       "    .dataframe tbody tr th:only-of-type {\n",
       "        vertical-align: middle;\n",
       "    }\n",
       "\n",
       "    .dataframe tbody tr th {\n",
       "        vertical-align: top;\n",
       "    }\n",
       "\n",
       "    .dataframe thead th {\n",
       "        text-align: right;\n",
       "    }\n",
       "</style>\n",
       "<table border=\"1\" class=\"dataframe\">\n",
       "  <thead>\n",
       "    <tr style=\"text-align: right;\">\n",
       "      <th></th>\n",
       "      <th>Location</th>\n",
       "      <th>% of global total</th>\n",
       "      <th>Fossil emissions 2023</th>\n",
       "      <th>Fossil emissions 2000</th>\n",
       "      <th>% change from 2000</th>\n",
       "    </tr>\n",
       "  </thead>\n",
       "  <tbody>\n",
       "    <tr>\n",
       "      <th>count</th>\n",
       "      <td>211</td>\n",
       "      <td>211</td>\n",
       "      <td>211</td>\n",
       "      <td>211</td>\n",
       "      <td>211</td>\n",
       "    </tr>\n",
       "    <tr>\n",
       "      <th>unique</th>\n",
       "      <td>211</td>\n",
       "      <td>47</td>\n",
       "      <td>201</td>\n",
       "      <td>194</td>\n",
       "      <td>156</td>\n",
       "    </tr>\n",
       "    <tr>\n",
       "      <th>top</th>\n",
       "      <td>China</td>\n",
       "      <td>0.02%</td>\n",
       "      <td>0.10</td>\n",
       "      <td>0.06</td>\n",
       "      <td>−33%</td>\n",
       "    </tr>\n",
       "    <tr>\n",
       "      <th>freq</th>\n",
       "      <td>1</td>\n",
       "      <td>24</td>\n",
       "      <td>3</td>\n",
       "      <td>4</td>\n",
       "      <td>4</td>\n",
       "    </tr>\n",
       "  </tbody>\n",
       "</table>\n",
       "</div>"
      ],
      "text/plain": [
       "       Location % of global total Fossil emissions 2023 Fossil emissions 2000  \\\n",
       "count       211               211                   211                   211   \n",
       "unique      211                47                   201                   194   \n",
       "top       China             0.02%                  0.10                  0.06   \n",
       "freq          1                24                     3                     4   \n",
       "\n",
       "       % change from 2000  \n",
       "count                 211  \n",
       "unique                156  \n",
       "top                  −33%  \n",
       "freq                    4  "
      ]
     },
     "execution_count": 4,
     "metadata": {},
     "output_type": "execute_result"
    }
   ],
   "source": [
    "df.describe()"
   ]
  },
  {
   "cell_type": "markdown",
   "id": "2677ef11-c2d7-45d8-b5de-f0e24d8d627d",
   "metadata": {},
   "source": [
    "# Checking data frame result at top & bottom data"
   ]
  },
  {
   "cell_type": "code",
   "execution_count": 5,
   "id": "a13ebca0-3578-458e-aef4-1784448d0dc2",
   "metadata": {},
   "outputs": [
    {
     "data": {
      "text/html": [
       "<div>\n",
       "<style scoped>\n",
       "    .dataframe tbody tr th:only-of-type {\n",
       "        vertical-align: middle;\n",
       "    }\n",
       "\n",
       "    .dataframe tbody tr th {\n",
       "        vertical-align: top;\n",
       "    }\n",
       "\n",
       "    .dataframe thead th {\n",
       "        text-align: right;\n",
       "    }\n",
       "</style>\n",
       "<table border=\"1\" class=\"dataframe\">\n",
       "  <thead>\n",
       "    <tr style=\"text-align: right;\">\n",
       "      <th></th>\n",
       "      <th>Location</th>\n",
       "      <th>% of global total</th>\n",
       "      <th>Fossil emissions 2023</th>\n",
       "      <th>Fossil emissions 2000</th>\n",
       "      <th>% change from 2000</th>\n",
       "    </tr>\n",
       "  </thead>\n",
       "  <tbody>\n",
       "    <tr>\n",
       "      <th>0</th>\n",
       "      <td>China</td>\n",
       "      <td>34.0%</td>\n",
       "      <td>13,259.64</td>\n",
       "      <td>3,666.95</td>\n",
       "      <td>+262%</td>\n",
       "    </tr>\n",
       "    <tr>\n",
       "      <th>1</th>\n",
       "      <td>United States</td>\n",
       "      <td>12.0%</td>\n",
       "      <td>4,682.04</td>\n",
       "      <td>5,928.97</td>\n",
       "      <td>−21%</td>\n",
       "    </tr>\n",
       "    <tr>\n",
       "      <th>2</th>\n",
       "      <td>India</td>\n",
       "      <td>7.6%</td>\n",
       "      <td>2,955.18</td>\n",
       "      <td>995.65</td>\n",
       "      <td>+197%</td>\n",
       "    </tr>\n",
       "    <tr>\n",
       "      <th>3</th>\n",
       "      <td>European Union</td>\n",
       "      <td>6.4%</td>\n",
       "      <td>2,512.07</td>\n",
       "      <td>3,563.26</td>\n",
       "      <td>−30%</td>\n",
       "    </tr>\n",
       "    <tr>\n",
       "      <th>4</th>\n",
       "      <td>Russia</td>\n",
       "      <td>5.3%</td>\n",
       "      <td>2,069.50</td>\n",
       "      <td>1,681.14</td>\n",
       "      <td>+23%</td>\n",
       "    </tr>\n",
       "  </tbody>\n",
       "</table>\n",
       "</div>"
      ],
      "text/plain": [
       "         Location % of global total Fossil emissions 2023  \\\n",
       "0           China             34.0%             13,259.64   \n",
       "1   United States             12.0%              4,682.04   \n",
       "2           India              7.6%              2,955.18   \n",
       "3  European Union              6.4%              2,512.07   \n",
       "4          Russia              5.3%              2,069.50   \n",
       "\n",
       "  Fossil emissions 2000 % change from 2000  \n",
       "0              3,666.95              +262%  \n",
       "1              5,928.97               −21%  \n",
       "2                995.65              +197%  \n",
       "3              3,563.26               −30%  \n",
       "4              1,681.14               +23%  "
      ]
     },
     "execution_count": 5,
     "metadata": {},
     "output_type": "execute_result"
    }
   ],
   "source": [
    "df.head()"
   ]
  },
  {
   "cell_type": "code",
   "execution_count": 6,
   "id": "8cf41cff-62a2-4d44-9b71-829f38e7e2d4",
   "metadata": {},
   "outputs": [
    {
     "data": {
      "text/html": [
       "<div>\n",
       "<style scoped>\n",
       "    .dataframe tbody tr th:only-of-type {\n",
       "        vertical-align: middle;\n",
       "    }\n",
       "\n",
       "    .dataframe tbody tr th {\n",
       "        vertical-align: top;\n",
       "    }\n",
       "\n",
       "    .dataframe thead th {\n",
       "        text-align: right;\n",
       "    }\n",
       "</style>\n",
       "<table border=\"1\" class=\"dataframe\">\n",
       "  <thead>\n",
       "    <tr style=\"text-align: right;\">\n",
       "      <th></th>\n",
       "      <th>Location</th>\n",
       "      <th>% of global total</th>\n",
       "      <th>Fossil emissions 2023</th>\n",
       "      <th>Fossil emissions 2000</th>\n",
       "      <th>% change from 2000</th>\n",
       "    </tr>\n",
       "  </thead>\n",
       "  <tbody>\n",
       "    <tr>\n",
       "      <th>206</th>\n",
       "      <td>Saint Pierre and Miquelon</td>\n",
       "      <td>0.0001%</td>\n",
       "      <td>0.04</td>\n",
       "      <td>0.02</td>\n",
       "      <td>+129%</td>\n",
       "    </tr>\n",
       "    <tr>\n",
       "      <th>207</th>\n",
       "      <td>Anguilla</td>\n",
       "      <td>0.0001%</td>\n",
       "      <td>0.02</td>\n",
       "      <td>0.02</td>\n",
       "      <td>+48%</td>\n",
       "    </tr>\n",
       "    <tr>\n",
       "      <th>208</th>\n",
       "      <td>Falkland Islands</td>\n",
       "      <td>0.0000%</td>\n",
       "      <td>0.02</td>\n",
       "      <td>0.01</td>\n",
       "      <td>+170%</td>\n",
       "    </tr>\n",
       "    <tr>\n",
       "      <th>209</th>\n",
       "      <td>Saint Helena, Ascension and Tristan da Cunha</td>\n",
       "      <td>0.0000%</td>\n",
       "      <td>0.02</td>\n",
       "      <td>0.01</td>\n",
       "      <td>+58%</td>\n",
       "    </tr>\n",
       "    <tr>\n",
       "      <th>210</th>\n",
       "      <td>Faroe Islands</td>\n",
       "      <td>0.0000%</td>\n",
       "      <td>0.00</td>\n",
       "      <td>0.00</td>\n",
       "      <td>+20%</td>\n",
       "    </tr>\n",
       "  </tbody>\n",
       "</table>\n",
       "</div>"
      ],
      "text/plain": [
       "                                         Location % of global total  \\\n",
       "206                     Saint Pierre and Miquelon           0.0001%   \n",
       "207                                      Anguilla           0.0001%   \n",
       "208                              Falkland Islands           0.0000%   \n",
       "209  Saint Helena, Ascension and Tristan da Cunha           0.0000%   \n",
       "210                                 Faroe Islands           0.0000%   \n",
       "\n",
       "    Fossil emissions 2023 Fossil emissions 2000 % change from 2000  \n",
       "206                  0.04                  0.02              +129%  \n",
       "207                  0.02                  0.02               +48%  \n",
       "208                  0.02                  0.01              +170%  \n",
       "209                  0.02                  0.01               +58%  \n",
       "210                  0.00                  0.00               +20%  "
      ]
     },
     "execution_count": 6,
     "metadata": {},
     "output_type": "execute_result"
    }
   ],
   "source": [
    "df.tail()"
   ]
  },
  {
   "cell_type": "markdown",
   "id": "dc68010b-7237-4b8b-80da-9758d8d25dfd",
   "metadata": {},
   "source": [
    "# Transform Data: Remove duplicates"
   ]
  },
  {
   "cell_type": "code",
   "execution_count": 7,
   "id": "0e9f3cd6-3b1e-4cc5-abee-640bcea1cd02",
   "metadata": {},
   "outputs": [],
   "source": [
    "deduplicated_df = df.drop_duplicates()"
   ]
  },
  {
   "cell_type": "markdown",
   "id": "4750baef-444a-4361-ad50-da6a134b8959",
   "metadata": {},
   "source": [
    "# Transform Data: Remove N/A"
   ]
  },
  {
   "cell_type": "code",
   "execution_count": 8,
   "id": "6e425572-d429-4187-b73b-653e78d8f766",
   "metadata": {},
   "outputs": [],
   "source": [
    "na_removed_df = deduplicated_df.dropna()"
   ]
  },
  {
   "cell_type": "markdown",
   "id": "6f0b6702-ef9d-4b72-8066-e88f77298486",
   "metadata": {},
   "source": [
    "# Checking data type & correction needed"
   ]
  },
  {
   "cell_type": "code",
   "execution_count": 9,
   "id": "8b88d63d-8958-4083-a2c8-fc8485a50891",
   "metadata": {},
   "outputs": [
    {
     "name": "stdout",
     "output_type": "stream",
     "text": [
      "<class 'pandas.core.frame.DataFrame'>\n",
      "RangeIndex: 211 entries, 0 to 210\n",
      "Data columns (total 5 columns):\n",
      " #   Column                 Non-Null Count  Dtype \n",
      "---  ------                 --------------  ----- \n",
      " 0   Location               211 non-null    object\n",
      " 1   % of global total      211 non-null    object\n",
      " 2   Fossil emissions 2023  211 non-null    object\n",
      " 3   Fossil emissions 2000  211 non-null    object\n",
      " 4   % change from 2000     211 non-null    object\n",
      "dtypes: object(5)\n",
      "memory usage: 8.4+ KB\n"
     ]
    }
   ],
   "source": [
    "na_removed_df.info()"
   ]
  },
  {
   "cell_type": "markdown",
   "id": "de2dbdc0-c5a4-4c12-8eb5-056e007b4b47",
   "metadata": {},
   "source": [
    "# Transform Data: Data Type correction"
   ]
  },
  {
   "cell_type": "code",
   "execution_count": 10,
   "id": "14837d3d-4151-4d02-bdfc-be3c772c5c0c",
   "metadata": {},
   "outputs": [],
   "source": [
    "df = na_removed_df"
   ]
  },
  {
   "cell_type": "markdown",
   "id": "4a9a8b8e-1d91-4989-88be-495ff6bcd301",
   "metadata": {},
   "source": [
    "# Remove '%' from string data"
   ]
  },
  {
   "cell_type": "code",
   "execution_count": 11,
   "id": "79942825-4026-41c6-9349-b5c3b6d1cb48",
   "metadata": {},
   "outputs": [],
   "source": [
    "df['% of global total'] = df['% of global total'].str.replace('%', '', regex=False)"
   ]
  },
  {
   "cell_type": "code",
   "execution_count": 12,
   "id": "2ba386d4-ab3a-4eb5-8977-f4184ad8e623",
   "metadata": {},
   "outputs": [
    {
     "data": {
      "text/plain": [
       "0    34.0\n",
       "1    12.0\n",
       "2     7.6\n",
       "3     6.4\n",
       "4     5.3\n",
       "Name: % of global total, dtype: object"
      ]
     },
     "execution_count": 12,
     "metadata": {},
     "output_type": "execute_result"
    }
   ],
   "source": [
    "df['% of global total'][0:5]"
   ]
  },
  {
   "cell_type": "markdown",
   "id": "bdf906fa-597d-45ee-8cbd-ddc41af89116",
   "metadata": {},
   "source": [
    "# Convert string to numeric on '% of global total' column"
   ]
  },
  {
   "cell_type": "code",
   "execution_count": 13,
   "id": "dec6e274-256f-4a79-ac48-f8239d144c25",
   "metadata": {},
   "outputs": [],
   "source": [
    "df['% of global total'] = pd.to_numeric(df['% of global total'], errors='raise')"
   ]
  },
  {
   "cell_type": "code",
   "execution_count": 14,
   "id": "95b85bbe-dc60-4c9e-aa67-e49f18d839e4",
   "metadata": {},
   "outputs": [
    {
     "name": "stdout",
     "output_type": "stream",
     "text": [
      "<class 'pandas.core.frame.DataFrame'>\n",
      "RangeIndex: 211 entries, 0 to 210\n",
      "Data columns (total 5 columns):\n",
      " #   Column                 Non-Null Count  Dtype  \n",
      "---  ------                 --------------  -----  \n",
      " 0   Location               211 non-null    object \n",
      " 1   % of global total      211 non-null    float64\n",
      " 2   Fossil emissions 2023  211 non-null    object \n",
      " 3   Fossil emissions 2000  211 non-null    object \n",
      " 4   % change from 2000     211 non-null    object \n",
      "dtypes: float64(1), object(4)\n",
      "memory usage: 8.4+ KB\n"
     ]
    }
   ],
   "source": [
    "df.info()"
   ]
  },
  {
   "cell_type": "code",
   "execution_count": 15,
   "id": "63add17d-d158-41fe-a387-fc035486f7cd",
   "metadata": {},
   "outputs": [
    {
     "data": {
      "text/html": [
       "<div>\n",
       "<style scoped>\n",
       "    .dataframe tbody tr th:only-of-type {\n",
       "        vertical-align: middle;\n",
       "    }\n",
       "\n",
       "    .dataframe tbody tr th {\n",
       "        vertical-align: top;\n",
       "    }\n",
       "\n",
       "    .dataframe thead th {\n",
       "        text-align: right;\n",
       "    }\n",
       "</style>\n",
       "<table border=\"1\" class=\"dataframe\">\n",
       "  <thead>\n",
       "    <tr style=\"text-align: right;\">\n",
       "      <th></th>\n",
       "      <th>Location</th>\n",
       "      <th>% of global total</th>\n",
       "      <th>Fossil emissions 2023</th>\n",
       "      <th>Fossil emissions 2000</th>\n",
       "      <th>% change from 2000</th>\n",
       "    </tr>\n",
       "  </thead>\n",
       "  <tbody>\n",
       "    <tr>\n",
       "      <th>0</th>\n",
       "      <td>China</td>\n",
       "      <td>34.0</td>\n",
       "      <td>13,259.64</td>\n",
       "      <td>3,666.95</td>\n",
       "      <td>+262%</td>\n",
       "    </tr>\n",
       "    <tr>\n",
       "      <th>1</th>\n",
       "      <td>United States</td>\n",
       "      <td>12.0</td>\n",
       "      <td>4,682.04</td>\n",
       "      <td>5,928.97</td>\n",
       "      <td>−21%</td>\n",
       "    </tr>\n",
       "    <tr>\n",
       "      <th>2</th>\n",
       "      <td>India</td>\n",
       "      <td>7.6</td>\n",
       "      <td>2,955.18</td>\n",
       "      <td>995.65</td>\n",
       "      <td>+197%</td>\n",
       "    </tr>\n",
       "    <tr>\n",
       "      <th>3</th>\n",
       "      <td>European Union</td>\n",
       "      <td>6.4</td>\n",
       "      <td>2,512.07</td>\n",
       "      <td>3,563.26</td>\n",
       "      <td>−30%</td>\n",
       "    </tr>\n",
       "    <tr>\n",
       "      <th>4</th>\n",
       "      <td>Russia</td>\n",
       "      <td>5.3</td>\n",
       "      <td>2,069.50</td>\n",
       "      <td>1,681.14</td>\n",
       "      <td>+23%</td>\n",
       "    </tr>\n",
       "  </tbody>\n",
       "</table>\n",
       "</div>"
      ],
      "text/plain": [
       "         Location  % of global total Fossil emissions 2023  \\\n",
       "0           China               34.0             13,259.64   \n",
       "1   United States               12.0              4,682.04   \n",
       "2           India                7.6              2,955.18   \n",
       "3  European Union                6.4              2,512.07   \n",
       "4          Russia                5.3              2,069.50   \n",
       "\n",
       "  Fossil emissions 2000 % change from 2000  \n",
       "0              3,666.95              +262%  \n",
       "1              5,928.97               −21%  \n",
       "2                995.65              +197%  \n",
       "3              3,563.26               −30%  \n",
       "4              1,681.14               +23%  "
      ]
     },
     "execution_count": 15,
     "metadata": {},
     "output_type": "execute_result"
    }
   ],
   "source": [
    "df.head()"
   ]
  },
  {
   "cell_type": "markdown",
   "id": "540f89e9-f1ec-4764-b99d-1a41f5cb94d3",
   "metadata": {},
   "source": [
    "# Remove ',' string from value from 'Fossil emissions 2023' column"
   ]
  },
  {
   "cell_type": "code",
   "execution_count": 16,
   "id": "332e1d75-3993-4020-80dd-c03d1d4a61dc",
   "metadata": {},
   "outputs": [],
   "source": [
    "df['Fossil emissions 2023'] = df['Fossil emissions 2023'].str.replace(',', '', regex=False)"
   ]
  },
  {
   "cell_type": "markdown",
   "id": "3ca8c17d-760b-4cb7-a837-f3aa2336a3f0",
   "metadata": {},
   "source": [
    "# Convert to numeric on column 'Fossil emissions 2023'"
   ]
  },
  {
   "cell_type": "code",
   "execution_count": 17,
   "id": "dba012b1-ceda-4aa9-b85c-4b42c314ef9c",
   "metadata": {},
   "outputs": [],
   "source": [
    "df['Fossil emissions 2023'] = pd.to_numeric(df['Fossil emissions 2023'], errors='raise')"
   ]
  },
  {
   "cell_type": "markdown",
   "id": "94ef4a03-f94f-4443-92a9-da01cbe4b54c",
   "metadata": {},
   "source": [
    "# Remove ',' 'no' string from value from 'Fossil emissions 2000' column"
   ]
  },
  {
   "cell_type": "code",
   "execution_count": 18,
   "id": "90d840ab-42be-4963-b92b-3b81d123a373",
   "metadata": {},
   "outputs": [],
   "source": [
    "df['Fossil emissions 2000'] = df['Fossil emissions 2000'].str.replace(',', '', regex=False)"
   ]
  },
  {
   "cell_type": "code",
   "execution_count": 19,
   "id": "864db452-ce93-4544-94df-63c7365d2116",
   "metadata": {},
   "outputs": [],
   "source": [
    "df['Fossil emissions 2000'] = df['Fossil emissions 2000'].str.replace('no', '', regex=False)"
   ]
  },
  {
   "cell_type": "markdown",
   "id": "923a9263-be4a-4d17-be37-9d7e0c52be8d",
   "metadata": {},
   "source": [
    "# Convert to numeric on column 'Fossil emissions 2000'"
   ]
  },
  {
   "cell_type": "code",
   "execution_count": 20,
   "id": "59ef6594-1d01-4549-9ff7-d46504660500",
   "metadata": {},
   "outputs": [],
   "source": [
    "df['Fossil emissions 2000'] = pd.to_numeric(df['Fossil emissions 2000'], errors='raise')"
   ]
  },
  {
   "cell_type": "markdown",
   "id": "13a71e99-5f33-4cad-9f5e-8e77b3fa3548",
   "metadata": {},
   "source": [
    "# Remove '%' '+' string from value from '% change 2000' column"
   ]
  },
  {
   "cell_type": "code",
   "execution_count": 21,
   "id": "eaeb4634-b2c1-46d4-9547-18ffe99ffdc6",
   "metadata": {},
   "outputs": [],
   "source": [
    "df['% change from 2000'] = df['% change from 2000'].str.replace('%', '', regex=False)"
   ]
  },
  {
   "cell_type": "code",
   "execution_count": 22,
   "id": "8f61a44f-96f0-4af6-9ecd-11235a4a900b",
   "metadata": {},
   "outputs": [],
   "source": [
    "df['% change from 2000'] = df['% change from 2000'].str.replace('+', '', regex=False)"
   ]
  },
  {
   "cell_type": "code",
   "execution_count": 23,
   "id": "e17dc933-c2e2-49a5-bc78-9cfe4c54aa6b",
   "metadata": {},
   "outputs": [],
   "source": [
    "df['% change from 2000'] = df['% change from 2000'].str.replace(\"−\", \"-\")"
   ]
  },
  {
   "cell_type": "code",
   "execution_count": 24,
   "id": "d205cfad-d3c6-42bc-8653-199f858be1e2",
   "metadata": {},
   "outputs": [
    {
     "data": {
      "text/html": [
       "<div>\n",
       "<style scoped>\n",
       "    .dataframe tbody tr th:only-of-type {\n",
       "        vertical-align: middle;\n",
       "    }\n",
       "\n",
       "    .dataframe tbody tr th {\n",
       "        vertical-align: top;\n",
       "    }\n",
       "\n",
       "    .dataframe thead th {\n",
       "        text-align: right;\n",
       "    }\n",
       "</style>\n",
       "<table border=\"1\" class=\"dataframe\">\n",
       "  <thead>\n",
       "    <tr style=\"text-align: right;\">\n",
       "      <th></th>\n",
       "      <th>Location</th>\n",
       "      <th>% of global total</th>\n",
       "      <th>Fossil emissions 2023</th>\n",
       "      <th>Fossil emissions 2000</th>\n",
       "      <th>% change from 2000</th>\n",
       "    </tr>\n",
       "  </thead>\n",
       "  <tbody>\n",
       "    <tr>\n",
       "      <th>0</th>\n",
       "      <td>China</td>\n",
       "      <td>34.0</td>\n",
       "      <td>13259.64</td>\n",
       "      <td>3666.95</td>\n",
       "      <td>262</td>\n",
       "    </tr>\n",
       "    <tr>\n",
       "      <th>1</th>\n",
       "      <td>United States</td>\n",
       "      <td>12.0</td>\n",
       "      <td>4682.04</td>\n",
       "      <td>5928.97</td>\n",
       "      <td>-21</td>\n",
       "    </tr>\n",
       "    <tr>\n",
       "      <th>2</th>\n",
       "      <td>India</td>\n",
       "      <td>7.6</td>\n",
       "      <td>2955.18</td>\n",
       "      <td>995.65</td>\n",
       "      <td>197</td>\n",
       "    </tr>\n",
       "    <tr>\n",
       "      <th>3</th>\n",
       "      <td>European Union</td>\n",
       "      <td>6.4</td>\n",
       "      <td>2512.07</td>\n",
       "      <td>3563.26</td>\n",
       "      <td>-30</td>\n",
       "    </tr>\n",
       "    <tr>\n",
       "      <th>4</th>\n",
       "      <td>Russia</td>\n",
       "      <td>5.3</td>\n",
       "      <td>2069.50</td>\n",
       "      <td>1681.14</td>\n",
       "      <td>23</td>\n",
       "    </tr>\n",
       "  </tbody>\n",
       "</table>\n",
       "</div>"
      ],
      "text/plain": [
       "         Location  % of global total  Fossil emissions 2023  \\\n",
       "0           China               34.0               13259.64   \n",
       "1   United States               12.0                4682.04   \n",
       "2           India                7.6                2955.18   \n",
       "3  European Union                6.4                2512.07   \n",
       "4          Russia                5.3                2069.50   \n",
       "\n",
       "   Fossil emissions 2000 % change from 2000  \n",
       "0                3666.95                262  \n",
       "1                5928.97                -21  \n",
       "2                 995.65                197  \n",
       "3                3563.26                -30  \n",
       "4                1681.14                 23  "
      ]
     },
     "execution_count": 24,
     "metadata": {},
     "output_type": "execute_result"
    }
   ],
   "source": [
    "df.head()"
   ]
  },
  {
   "cell_type": "markdown",
   "id": "53a76891-be76-41dc-8bf0-0ef3f1a52c3f",
   "metadata": {},
   "source": [
    "# Checking transformation result"
   ]
  },
  {
   "cell_type": "code",
   "execution_count": 25,
   "id": "90144569-36de-4868-a878-e78528637d82",
   "metadata": {},
   "outputs": [
    {
     "name": "stdout",
     "output_type": "stream",
     "text": [
      "<class 'pandas.core.frame.DataFrame'>\n",
      "RangeIndex: 211 entries, 0 to 210\n",
      "Data columns (total 5 columns):\n",
      " #   Column                 Non-Null Count  Dtype  \n",
      "---  ------                 --------------  -----  \n",
      " 0   Location               211 non-null    object \n",
      " 1   % of global total      211 non-null    float64\n",
      " 2   Fossil emissions 2023  211 non-null    float64\n",
      " 3   Fossil emissions 2000  210 non-null    float64\n",
      " 4   % change from 2000     211 non-null    object \n",
      "dtypes: float64(3), object(2)\n",
      "memory usage: 8.4+ KB\n"
     ]
    }
   ],
   "source": [
    "df.info()"
   ]
  },
  {
   "cell_type": "code",
   "execution_count": 26,
   "id": "9bc2ad98-c4f0-40bf-85e9-e747247eac2a",
   "metadata": {},
   "outputs": [
    {
     "name": "stdout",
     "output_type": "stream",
     "text": [
      "object\n"
     ]
    }
   ],
   "source": [
    "print(df['% change from 2000'].dtype)"
   ]
  },
  {
   "cell_type": "markdown",
   "id": "e2bade9b-c81b-4f05-835a-763f91322042",
   "metadata": {},
   "source": [
    "# Remove ',' 'change' string from value from '% change 2000' column"
   ]
  },
  {
   "cell_type": "code",
   "execution_count": 27,
   "id": "d6b11140-3b2f-49d7-ad39-027d85654711",
   "metadata": {},
   "outputs": [],
   "source": [
    "df['% change from 2000'] = df['% change from 2000'].str.replace(',', '', regex=False)"
   ]
  },
  {
   "cell_type": "code",
   "execution_count": 28,
   "id": "d4c9f7de-9ad3-49a5-be7c-e384075d1f3f",
   "metadata": {},
   "outputs": [],
   "source": [
    "df['% change from 2000'] = df['% change from 2000'].str.replace('change', '', regex=False)"
   ]
  },
  {
   "cell_type": "markdown",
   "id": "f4271a3c-fd14-42dd-acb8-ffb9a0c23cc7",
   "metadata": {},
   "source": [
    "# Convert to numeric on column '% change 2000'"
   ]
  },
  {
   "cell_type": "code",
   "execution_count": 29,
   "id": "6d4ade5d-4009-4e14-8a68-409b548e5b28",
   "metadata": {},
   "outputs": [],
   "source": [
    "df['% change from 2000'] = pd.to_numeric(df['% change from 2000'], errors='raise')"
   ]
  },
  {
   "cell_type": "markdown",
   "id": "2f0e000b-d6ad-4610-b44b-f340385ca7ed",
   "metadata": {},
   "source": [
    "# Final checking result"
   ]
  },
  {
   "cell_type": "code",
   "execution_count": 30,
   "id": "fa6e4c9c-476c-499f-971a-86eba414bbbb",
   "metadata": {},
   "outputs": [
    {
     "name": "stdout",
     "output_type": "stream",
     "text": [
      "<class 'pandas.core.frame.DataFrame'>\n",
      "RangeIndex: 211 entries, 0 to 210\n",
      "Data columns (total 5 columns):\n",
      " #   Column                 Non-Null Count  Dtype  \n",
      "---  ------                 --------------  -----  \n",
      " 0   Location               211 non-null    object \n",
      " 1   % of global total      211 non-null    float64\n",
      " 2   Fossil emissions 2023  211 non-null    float64\n",
      " 3   Fossil emissions 2000  210 non-null    float64\n",
      " 4   % change from 2000     210 non-null    float64\n",
      "dtypes: float64(4), object(1)\n",
      "memory usage: 8.4+ KB\n"
     ]
    }
   ],
   "source": [
    "df.info()"
   ]
  },
  {
   "cell_type": "code",
   "execution_count": 31,
   "id": "e5417b62-3671-4e9b-b446-19bbfbfd009a",
   "metadata": {},
   "outputs": [
    {
     "data": {
      "text/html": [
       "<div>\n",
       "<style scoped>\n",
       "    .dataframe tbody tr th:only-of-type {\n",
       "        vertical-align: middle;\n",
       "    }\n",
       "\n",
       "    .dataframe tbody tr th {\n",
       "        vertical-align: top;\n",
       "    }\n",
       "\n",
       "    .dataframe thead th {\n",
       "        text-align: right;\n",
       "    }\n",
       "</style>\n",
       "<table border=\"1\" class=\"dataframe\">\n",
       "  <thead>\n",
       "    <tr style=\"text-align: right;\">\n",
       "      <th></th>\n",
       "      <th>Location</th>\n",
       "      <th>% of global total</th>\n",
       "      <th>Fossil emissions 2023</th>\n",
       "      <th>Fossil emissions 2000</th>\n",
       "      <th>% change from 2000</th>\n",
       "    </tr>\n",
       "  </thead>\n",
       "  <tbody>\n",
       "    <tr>\n",
       "      <th>0</th>\n",
       "      <td>China</td>\n",
       "      <td>34.0</td>\n",
       "      <td>13259.64</td>\n",
       "      <td>3666.95</td>\n",
       "      <td>262.0</td>\n",
       "    </tr>\n",
       "    <tr>\n",
       "      <th>1</th>\n",
       "      <td>United States</td>\n",
       "      <td>12.0</td>\n",
       "      <td>4682.04</td>\n",
       "      <td>5928.97</td>\n",
       "      <td>-21.0</td>\n",
       "    </tr>\n",
       "    <tr>\n",
       "      <th>2</th>\n",
       "      <td>India</td>\n",
       "      <td>7.6</td>\n",
       "      <td>2955.18</td>\n",
       "      <td>995.65</td>\n",
       "      <td>197.0</td>\n",
       "    </tr>\n",
       "    <tr>\n",
       "      <th>3</th>\n",
       "      <td>European Union</td>\n",
       "      <td>6.4</td>\n",
       "      <td>2512.07</td>\n",
       "      <td>3563.26</td>\n",
       "      <td>-30.0</td>\n",
       "    </tr>\n",
       "    <tr>\n",
       "      <th>4</th>\n",
       "      <td>Russia</td>\n",
       "      <td>5.3</td>\n",
       "      <td>2069.50</td>\n",
       "      <td>1681.14</td>\n",
       "      <td>23.0</td>\n",
       "    </tr>\n",
       "  </tbody>\n",
       "</table>\n",
       "</div>"
      ],
      "text/plain": [
       "         Location  % of global total  Fossil emissions 2023  \\\n",
       "0           China               34.0               13259.64   \n",
       "1   United States               12.0                4682.04   \n",
       "2           India                7.6                2955.18   \n",
       "3  European Union                6.4                2512.07   \n",
       "4          Russia                5.3                2069.50   \n",
       "\n",
       "   Fossil emissions 2000  % change from 2000  \n",
       "0                3666.95               262.0  \n",
       "1                5928.97               -21.0  \n",
       "2                 995.65               197.0  \n",
       "3                3563.26               -30.0  \n",
       "4                1681.14                23.0  "
      ]
     },
     "execution_count": 31,
     "metadata": {},
     "output_type": "execute_result"
    }
   ],
   "source": [
    "df.head()"
   ]
  },
  {
   "cell_type": "code",
   "execution_count": 32,
   "id": "34f1a893-bcbd-4e72-9056-737cf1bdeaff",
   "metadata": {},
   "outputs": [],
   "source": [
    "#pip install sqlalchemy"
   ]
  },
  {
   "cell_type": "code",
   "execution_count": 33,
   "id": "69dc02af-f88d-4a5a-b91e-fcb9bdd58a48",
   "metadata": {},
   "outputs": [],
   "source": [
    "#pip install psycopg2-binary"
   ]
  },
  {
   "cell_type": "markdown",
   "id": "3f41305d-16f0-4744-a5c2-81da3fd2139b",
   "metadata": {},
   "source": [
    "# Import python library for postgres connection & interaction"
   ]
  },
  {
   "cell_type": "code",
   "execution_count": 34,
   "id": "88ad4371-022f-4729-8909-61c5a5106ca2",
   "metadata": {},
   "outputs": [],
   "source": [
    "from sqlalchemy import create_engine"
   ]
  },
  {
   "cell_type": "code",
   "execution_count": 35,
   "id": "f3e4bfbc-b32e-4b2c-adf3-0a6a2cc12cac",
   "metadata": {},
   "outputs": [],
   "source": [
    "import psycopg2"
   ]
  },
  {
   "cell_type": "markdown",
   "id": "b919f22d-b458-4772-a83e-5f804d3546b1",
   "metadata": {},
   "source": [
    "# Create database connection"
   ]
  },
  {
   "cell_type": "code",
   "execution_count": 36,
   "id": "ee494d38-4a11-4b51-ba0d-3195b179998f",
   "metadata": {},
   "outputs": [],
   "source": [
    "db_config = {\n",
    "    'host':'localhost',\n",
    "    'database':'csvpostgresetl',\n",
    "    'user':'mulyo',\n",
    "    'password':'Hasegawa@053'\n",
    "}"
   ]
  },
  {
   "cell_type": "markdown",
   "id": "efcf12c9-380e-402b-af6f-13b6e77c64c8",
   "metadata": {},
   "source": [
    "# Create table name for database"
   ]
  },
  {
   "cell_type": "code",
   "execution_count": 37,
   "id": "4d9ec98e-2a6b-4eea-bdf2-8e2603a47d8e",
   "metadata": {},
   "outputs": [],
   "source": [
    "table_name = 'co2_emission'"
   ]
  },
  {
   "cell_type": "markdown",
   "id": "80a1690e-b53c-4250-93d3-e2cc35bf5d5f",
   "metadata": {},
   "source": [
    "# Load pandas data frame into postgresql"
   ]
  },
  {
   "cell_type": "code",
   "execution_count": 38,
   "id": "7e67ecf2-e56e-434f-b9b7-887148f4b4aa",
   "metadata": {},
   "outputs": [
    {
     "name": "stdout",
     "output_type": "stream",
     "text": [
      "An unexpected error occurred: (psycopg2.OperationalError) could not translate host name \"053@localhost\" to address: Name or service not known\n",
      "\n",
      "(Background on this error at: https://sqlalche.me/e/20/e3q8)\n",
      "PostgreSQL connection closed.\n"
     ]
    }
   ],
   "source": [
    "try:\n",
    "    conn = psycopg2.connect(**db_config)\n",
    "    cursor = conn.cursor()\n",
    "\n",
    "    create_table_sql = f\"\"\"\n",
    "    CREATE TABLE IF NOT EXISTS {table_name} (\n",
    "        location VARCHAR(100),\n",
    "        global_total DECIMAL(10,2),\n",
    "        emission_2023 DECIMAL(10,2),\n",
    "        emission_2000 DECIMAL(10,2),\n",
    "        change_2000 DECIMAL(10,2)\n",
    "    );\n",
    "    \"\"\"\n",
    "    cursor.execute(create_table_sql)\n",
    "    conn.commit()\n",
    "\n",
    "    for index, row in df.iterrows():\n",
    "        sql = f\"\"\"\n",
    "        INSERT INTO {table_name} (location, global_total, emission_2023, emission_2000, change_2000)\n",
    "        VALUES (%s, %s, %s, %s, %s);\n",
    "        \"\"\"\n",
    "        cursor.execute(sql, row.tolist())\n",
    "\n",
    "    conn.commit()\n",
    "\n",
    "    engine = create_engine(f\"postgresql+psycopg2://{db_config['user']}:{db_config['password']}@{db_config['host']}:{db_config.get('port', 5432)}/{db_config['database']}\")\n",
    "    df.to_sql(table_name, engine, if_exists='append', index=False)\n",
    "\n",
    "except psycopg2.Error as e:\n",
    "    print(f\"Error connecting to or interacting with PostgreSQL: {e}\")\n",
    "\n",
    "except Exception as e:\n",
    "    print(f\"An unexpected error occurred: {e}\")\n",
    "finally:\n",
    "    if 'conn' in locals() and conn is not None:\n",
    "        cursor.close()\n",
    "        conn.close()\n",
    "        print(\"PostgreSQL connection closed.\")"
   ]
  },
  {
   "cell_type": "code",
   "execution_count": null,
   "id": "7138d43d-f0d4-4a98-b671-f85fcb99d5a5",
   "metadata": {},
   "outputs": [],
   "source": []
  }
 ],
 "metadata": {
  "kernelspec": {
   "display_name": "Python 3 (ipykernel)",
   "language": "python",
   "name": "python3"
  },
  "language_info": {
   "codemirror_mode": {
    "name": "ipython",
    "version": 3
   },
   "file_extension": ".py",
   "mimetype": "text/x-python",
   "name": "python",
   "nbconvert_exporter": "python",
   "pygments_lexer": "ipython3",
   "version": "3.9.21"
  }
 },
 "nbformat": 4,
 "nbformat_minor": 5
}
